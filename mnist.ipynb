{
  "cells": [
    {
      "cell_type": "markdown",
      "source": [
        "导包"
      ],
      "metadata": {
        "id": "l6EY-xq0pLHv"
      }
    },
    {
      "cell_type": "code",
      "source": [
        "import ipykernel\n",
        "import numpy as np\n",
        "import keras\n",
        "from keras.datasets import mnist\n",
        "from keras.models import Model, Sequential\n",
        "import keras.backend as K\n",
        "from keras import layers\n",
        "from keras.optimizers import Adam\n",
        "from keras.preprocessing.image import ImageDataGenerator\n",
        "import matplotlib.pyplot as plt\n",
        "from sklearn.manifold import TSNE"
      ],
      "metadata": {
        "id": "FPpQgGmvpDTU"
      },
      "execution_count": 12,
      "outputs": []
    },
    {
      "cell_type": "markdown",
      "source": [
        "定义超参数"
      ],
      "metadata": {
        "id": "YeQ4QqoL9FEO"
      }
    },
    {
      "cell_type": "code",
      "source": [
        "batch_size = 256\n",
        "pretrain_epochs = 10\n",
        "finetune_epochs = 10\n",
        "embedding_dim = 256\n",
        "margin=0.3\n",
        "num_classes = 10"
      ],
      "metadata": {
        "id": "ttoxZ91-qG-5"
      },
      "execution_count": 26,
      "outputs": []
    },
    {
      "cell_type": "markdown",
      "source": [
        "定义对比损失函数，选用三元组损失"
      ],
      "metadata": {
        "id": "Frjz8G9opQQT"
      }
    },
    {
      "cell_type": "code",
      "source": [
        "def triplet_loss(margin):\n",
        "    def loss(y_true, y_pred):\n",
        "        total_length = y_pred.shape.as_list()[-1]\n",
        "        anchor = y_pred[:, 0:int(total_length * 1 / 3)]\n",
        "        positive = y_pred[:, int(total_length * 1 / 3):int(total_length * 2 / 3)]\n",
        "        negative = y_pred[:, int(total_length * 2 / 3):int(total_length * 3 / 3)]\n",
        "\n",
        "        # distance between the anchor and the positive\n",
        "        pos_dist = K.sum(K.square(anchor - positive), axis=1)\n",
        "        # distance between the anchor and the negative\n",
        "        neg_dist = K.sum(K.square(anchor - negative), axis=1)\n",
        "\n",
        "        return K.maximum(pos_dist - neg_dist + margin, 0.0)\n",
        "\n",
        "    return loss"
      ],
      "metadata": {
        "id": "eGYQoEhnpZon"
      },
      "execution_count": 14,
      "outputs": []
    },
    {
      "cell_type": "markdown",
      "source": [
        "自定义DataGenerator生成minibatch的样本图片和标签"
      ],
      "metadata": {
        "id": "_LM2Jk9wpdUQ"
      }
    },
    {
      "cell_type": "code",
      "source": [
        "class DataGenerator(keras.utils.Sequence):\n",
        "    def __init__(self, x, y, batch_size, num_classes, pretrain=True):\n",
        "        self.x = x\n",
        "        self.y = y\n",
        "        self.batch_size = batch_size\n",
        "        self.num_classes = num_classes\n",
        "        self.data_aug = ImageDataGenerator(\n",
        "            rotation_range=10,\n",
        "            width_shift_range=0.1,\n",
        "            height_shift_range=0.1,\n",
        "            zoom_range=0.1,\n",
        "        )\n",
        "        self.pretrain = pretrain\n",
        "\n",
        "    def __len__(self):\n",
        "        return int(np.ceil(len(self.x)) / float(self.batch_size))\n",
        "\n",
        "    def __getitem__(self, index):\n",
        "        batch_x = self.x[index * self.batch_size: (index + 1) * self.batch_size]\n",
        "        batch_y = self.y[index * self.batch_size: (index + 1) * self.batch_size]\n",
        "        if self.pretrain:\n",
        "          anchor = batch_x\n",
        "          positive = self.data_aug.flow(anchor, shuffle=False, batch_size=self.batch_size).next()\n",
        "          negative = np.zeros_like(anchor)\n",
        "\n",
        "          for i in range(self.batch_size):\n",
        "              neg_idx = np.random.choice(np.where(self.y != batch_y[i])[0])\n",
        "              negative[i] = self.x[neg_idx]\n",
        "\n",
        "          return [anchor, positive, negative], np.zeros((self.batch_size,))\n",
        "        else:\n",
        "          return batch_x, batch_y"
      ],
      "metadata": {
        "id": "5obV73kXpb0j"
      },
      "execution_count": 15,
      "outputs": []
    },
    {
      "cell_type": "markdown",
      "source": [
        "加载数据集"
      ],
      "metadata": {
        "id": "kwml8V2Upt19"
      }
    },
    {
      "cell_type": "code",
      "source": [
        "(x_train, y_train), (x_test, y_test) = mnist.load_data()\n",
        "x_train = x_train.reshape(-1, 28, 28, 1).astype('float32') / 255\n",
        "x_test = x_test.reshape(-1, 28, 28, 1).astype('float32') / 255\n",
        "input_shape = x_train.shape[1:]"
      ],
      "metadata": {
        "id": "tHXPtPX6qDCt"
      },
      "execution_count": 16,
      "outputs": []
    },
    {
      "cell_type": "markdown",
      "source": [
        "构建骨干网络"
      ],
      "metadata": {
        "id": "BYtrUbZFwRzI"
      }
    },
    {
      "cell_type": "code",
      "source": [
        "backbone = Sequential([\n",
        "    layers.Conv2D(32, (3, 3), input_shape=input_shape),\n",
        "    layers.BatchNormalization(),\n",
        "    layers.Activation('relu'),\n",
        "    layers.MaxPooling2D((2, 2)),\n",
        "    layers.Dropout(0.25),\n",
        "\n",
        "    layers.Conv2D(64, (3, 3)),\n",
        "    layers.BatchNormalization(),\n",
        "    layers.Activation('relu'),\n",
        "    layers.MaxPooling2D((2, 2)),\n",
        "    layers.Dropout(0.25),\n",
        "\n",
        "    layers.Flatten(),\n",
        "\n",
        "    layers.Dense(256, name='fc1'),\n",
        "    layers.BatchNormalization(),\n",
        "    layers.Activation('relu'),\n",
        "    # layers.Dropout(0.5),\n",
        "\n",
        "    layers.Dense(embedding_dim, activation='relu')\n",
        "], name='backbone')\n",
        "backbone.summary()"
      ],
      "metadata": {
        "colab": {
          "base_uri": "https://localhost:8080/"
        },
        "id": "CB-aIy8fHkfs",
        "outputId": "8602c871-427b-42dc-c629-ac8bfa5b3148"
      },
      "execution_count": 27,
      "outputs": [
        {
          "output_type": "stream",
          "name": "stdout",
          "text": [
            "Model: \"backbone\"\n",
            "_________________________________________________________________\n",
            " Layer (type)                Output Shape              Param #   \n",
            "=================================================================\n",
            " conv2d_4 (Conv2D)           (None, 26, 26, 32)        320       \n",
            "                                                                 \n",
            " batch_normalization_10 (Bat  (None, 26, 26, 32)       128       \n",
            " chNormalization)                                                \n",
            "                                                                 \n",
            " activation_10 (Activation)  (None, 26, 26, 32)        0         \n",
            "                                                                 \n",
            " max_pooling2d_4 (MaxPooling  (None, 13, 13, 32)       0         \n",
            " 2D)                                                             \n",
            "                                                                 \n",
            " dropout_8 (Dropout)         (None, 13, 13, 32)        0         \n",
            "                                                                 \n",
            " conv2d_5 (Conv2D)           (None, 11, 11, 64)        18496     \n",
            "                                                                 \n",
            " batch_normalization_11 (Bat  (None, 11, 11, 64)       256       \n",
            " chNormalization)                                                \n",
            "                                                                 \n",
            " activation_11 (Activation)  (None, 11, 11, 64)        0         \n",
            "                                                                 \n",
            " max_pooling2d_5 (MaxPooling  (None, 5, 5, 64)         0         \n",
            " 2D)                                                             \n",
            "                                                                 \n",
            " dropout_9 (Dropout)         (None, 5, 5, 64)          0         \n",
            "                                                                 \n",
            " flatten_2 (Flatten)         (None, 1600)              0         \n",
            "                                                                 \n",
            " fc1 (Dense)                 (None, 256)               409856    \n",
            "                                                                 \n",
            " batch_normalization_12 (Bat  (None, 256)              1024      \n",
            " chNormalization)                                                \n",
            "                                                                 \n",
            " activation_12 (Activation)  (None, 256)               0         \n",
            "                                                                 \n",
            " dense_9 (Dense)             (None, 256)               65792     \n",
            "                                                                 \n",
            "=================================================================\n",
            "Total params: 495,872\n",
            "Trainable params: 495,168\n",
            "Non-trainable params: 704\n",
            "_________________________________________________________________\n"
          ]
        }
      ]
    },
    {
      "cell_type": "markdown",
      "source": [
        "构建预训练模型"
      ],
      "metadata": {
        "id": "wEzivVivMw0L"
      }
    },
    {
      "cell_type": "code",
      "source": [
        "input_a = layers.Input(shape=input_shape, name=\"input_a\")\n",
        "input_p = layers.Input(shape=input_shape, name=\"input_p\")\n",
        "input_n = layers.Input(shape=input_shape, name=\"input_n\")\n",
        "output_a = backbone(input_a)\n",
        "output_p = backbone(input_p)\n",
        "output_n = backbone(input_n)\n",
        "merged_output = layers.concatenate([output_a, output_p, output_n], axis=-1)\n",
        "pretrain_model = keras.Model(inputs=[input_a, input_p, input_n], outputs=merged_output)\n",
        "pretrain_model.summary()"
      ],
      "metadata": {
        "colab": {
          "base_uri": "https://localhost:8080/"
        },
        "id": "UcMbcPSNF63Y",
        "outputId": "d834f297-ba9e-4fd5-a4ae-f40585976619"
      },
      "execution_count": 28,
      "outputs": [
        {
          "output_type": "stream",
          "name": "stdout",
          "text": [
            "Model: \"model_2\"\n",
            "__________________________________________________________________________________________________\n",
            " Layer (type)                   Output Shape         Param #     Connected to                     \n",
            "==================================================================================================\n",
            " input_a (InputLayer)           [(None, 28, 28, 1)]  0           []                               \n",
            "                                                                                                  \n",
            " input_p (InputLayer)           [(None, 28, 28, 1)]  0           []                               \n",
            "                                                                                                  \n",
            " input_n (InputLayer)           [(None, 28, 28, 1)]  0           []                               \n",
            "                                                                                                  \n",
            " backbone (Sequential)          (None, 256)          495872      ['input_a[0][0]',                \n",
            "                                                                  'input_p[0][0]',                \n",
            "                                                                  'input_n[0][0]']                \n",
            "                                                                                                  \n",
            " concatenate_2 (Concatenate)    (None, 768)          0           ['backbone[0][0]',               \n",
            "                                                                  'backbone[1][0]',               \n",
            "                                                                  'backbone[2][0]']               \n",
            "                                                                                                  \n",
            "==================================================================================================\n",
            "Total params: 495,872\n",
            "Trainable params: 495,168\n",
            "Non-trainable params: 704\n",
            "__________________________________________________________________________________________________\n"
          ]
        }
      ]
    },
    {
      "cell_type": "markdown",
      "source": [
        "加载数据，开始预训练"
      ],
      "metadata": {
        "id": "7fwZLmQbCwPo"
      }
    },
    {
      "cell_type": "code",
      "source": [
        "data_generator = DataGenerator(x_train, y_train, batch_size, num_classes)\n",
        "pretrain_model.compile(loss=triplet_loss(margin=margin), optimizer=Adam())\n",
        "pretrain_model.fit(data_generator, epochs=pretrain_epochs)"
      ],
      "metadata": {
        "colab": {
          "base_uri": "https://localhost:8080/"
        },
        "id": "LO2x6yw9Cthj",
        "outputId": "9e9d27d3-4933-4bca-ceec-4942cbefd87c"
      },
      "execution_count": 29,
      "outputs": [
        {
          "output_type": "stream",
          "name": "stdout",
          "text": [
            "Epoch 1/10\n",
            "234/234 [==============================] - 31s 124ms/step - loss: 0.1425\n",
            "Epoch 2/10\n",
            "234/234 [==============================] - 29s 123ms/step - loss: 0.0191\n",
            "Epoch 3/10\n",
            "234/234 [==============================] - 28s 121ms/step - loss: 0.0089\n",
            "Epoch 4/10\n",
            "234/234 [==============================] - 28s 120ms/step - loss: 0.0071\n",
            "Epoch 5/10\n",
            "234/234 [==============================] - 28s 120ms/step - loss: 0.0060\n",
            "Epoch 6/10\n",
            "234/234 [==============================] - 28s 121ms/step - loss: 0.0054\n",
            "Epoch 7/10\n",
            "234/234 [==============================] - 28s 120ms/step - loss: 0.0037\n",
            "Epoch 8/10\n",
            "234/234 [==============================] - 28s 120ms/step - loss: 0.0042\n",
            "Epoch 9/10\n",
            "234/234 [==============================] - 29s 122ms/step - loss: 0.0039\n",
            "Epoch 10/10\n",
            "234/234 [==============================] - 28s 121ms/step - loss: 0.0042\n"
          ]
        },
        {
          "output_type": "execute_result",
          "data": {
            "text/plain": [
              "<keras.callbacks.History at 0x7f8bd410b700>"
            ]
          },
          "metadata": {},
          "execution_count": 29
        }
      ]
    },
    {
      "cell_type": "markdown",
      "source": [
        "tSNE可视化"
      ],
      "metadata": {
        "id": "48V1ij_HqdCZ"
      }
    },
    {
      "cell_type": "code",
      "source": [
        "model = pretrain_model.get_layer(\"backbone\")\n",
        "\n",
        "embeddings = model.predict(x_test)\n",
        "tsne_embeddings = TSNE(n_components=2).fit_transform(embeddings)\n",
        "\n",
        "plt.scatter(tsne_embeddings[:, 0], tsne_embeddings[:, 1], c=y_test)\n",
        "plt.show()"
      ],
      "metadata": {
        "colab": {
          "base_uri": "https://localhost:8080/",
          "height": 447
        },
        "id": "E6va078_qfrl",
        "outputId": "0ea7a741-6707-40db-86ac-9c0d58927aec"
      },
      "execution_count": 20,
      "outputs": [
        {
          "output_type": "stream",
          "name": "stdout",
          "text": [
            "313/313 [==============================] - 1s 2ms/step\n"
          ]
        },
        {
          "output_type": "display_data",
          "data": {
            "text/plain": [
              "<Figure size 640x480 with 1 Axes>"
            ],
            "image/png": "[encoded data removed]"
          },
          "metadata": {}
        }
      ]
    },
    {
      "cell_type": "markdown",
      "source": [
        "构建训练模型"
      ],
      "metadata": {
        "id": "WpR75ywoqhox"
      }
    },
    {
      "cell_type": "code",
      "source": [
        "finetune_model = pretrain_model.get_layer(\"backbone\")\n",
        "for layer in finetune_model.layers:\n",
        "    layer.trainable = False\n",
        "finetune_model.add(layers.Dense(128))\n",
        "finetune_model.add(layers.BatchNormalization())\n",
        "finetune_model.add(layers.Activation('relu'))\n",
        "finetune_model.add(layers.Dense(64))\n",
        "finetune_model.add(layers.BatchNormalization())\n",
        "finetune_model.add(layers.Activation('relu'))\n",
        "finetune_model.add(layers.Dense(num_classes, activation='softmax'))\n",
        "\n",
        "finetune_model.compile(loss=\"sparse_categorical_crossentropy\", optimizer=\"adam\", metrics=[\"accuracy\"])\n",
        "finetune_model.summary()"
      ],
      "metadata": {
        "colab": {
          "base_uri": "https://localhost:8080/"
        },
        "id": "U-jioSwzJK4i",
        "outputId": "b5590530-f339-41a9-dfb2-34c7ad487c70"
      },
      "execution_count": 30,
      "outputs": [
        {
          "output_type": "stream",
          "name": "stdout",
          "text": [
            "Model: \"backbone\"\n",
            "_________________________________________________________________\n",
            " Layer (type)                Output Shape              Param #   \n",
            "=================================================================\n",
            " conv2d_4 (Conv2D)           (None, 26, 26, 32)        320       \n",
            "                                                                 \n",
            " batch_normalization_10 (Bat  (None, 26, 26, 32)       128       \n",
            " chNormalization)                                                \n",
            "                                                                 \n",
            " activation_10 (Activation)  (None, 26, 26, 32)        0         \n",
            "                                                                 \n",
            " max_pooling2d_4 (MaxPooling  (None, 13, 13, 32)       0         \n",
            " 2D)                                                             \n",
            "                                                                 \n",
            " dropout_8 (Dropout)         (None, 13, 13, 32)        0         \n",
            "                                                                 \n",
            " conv2d_5 (Conv2D)           (None, 11, 11, 64)        18496     \n",
            "                                                                 \n",
            " batch_normalization_11 (Bat  (None, 11, 11, 64)       256       \n",
            " chNormalization)                                                \n",
            "                                                                 \n",
            " activation_11 (Activation)  (None, 11, 11, 64)        0         \n",
            "                                                                 \n",
            " max_pooling2d_5 (MaxPooling  (None, 5, 5, 64)         0         \n",
            " 2D)                                                             \n",
            "                                                                 \n",
            " dropout_9 (Dropout)         (None, 5, 5, 64)          0         \n",
            "                                                                 \n",
            " flatten_2 (Flatten)         (None, 1600)              0         \n",
            "                                                                 \n",
            " fc1 (Dense)                 (None, 256)               409856    \n",
            "                                                                 \n",
            " batch_normalization_12 (Bat  (None, 256)              1024      \n",
            " chNormalization)                                                \n",
            "                                                                 \n",
            " activation_12 (Activation)  (None, 256)               0         \n",
            "                                                                 \n",
            " dense_9 (Dense)             (None, 256)               65792     \n",
            "                                                                 \n",
            " dense_10 (Dense)            (None, 128)               32896     \n",
            "                                                                 \n",
            " batch_normalization_13 (Bat  (None, 128)              512       \n",
            " chNormalization)                                                \n",
            "                                                                 \n",
            " activation_13 (Activation)  (None, 128)               0         \n",
            "                                                                 \n",
            " dense_11 (Dense)            (None, 64)                8256      \n",
            "                                                                 \n",
            " batch_normalization_14 (Bat  (None, 64)               256       \n",
            " chNormalization)                                                \n",
            "                                                                 \n",
            " activation_14 (Activation)  (None, 64)                0         \n",
            "                                                                 \n",
            " dense_12 (Dense)            (None, 10)                650       \n",
            "                                                                 \n",
            "=================================================================\n",
            "Total params: 538,442\n",
            "Trainable params: 42,186\n",
            "Non-trainable params: 496,256\n",
            "_________________________________________________________________\n"
          ]
        }
      ]
    },
    {
      "cell_type": "code",
      "source": [
        "trainDataLoader = DataGenerator(x_train, y_train, batch_size, num_classes, pretrain=False)\n",
        "testDataLoader = DataGenerator(x_test, y_test, batch_size, num_classes, pretrain=False)\n",
        "\n",
        "finetune_model.fit(trainDataLoader, epochs=finetune_epochs)\n",
        "test_loss, pretrain_acc = finetune_model.evaluate(testDataLoader)\n",
        "print(\"Test accuracy:\", pretrain_acc)"
      ],
      "metadata": {
        "colab": {
          "base_uri": "https://localhost:8080/"
        },
        "id": "cXThxReaqlAk",
        "outputId": "51dfc671-c95e-47de-8114-50af77bba908"
      },
      "execution_count": 31,
      "outputs": [
        {
          "output_type": "stream",
          "name": "stdout",
          "text": [
            "Epoch 1/10\n",
            "234/234 [==============================] - 4s 7ms/step - loss: 0.3804 - accuracy: 0.8984\n",
            "Epoch 2/10\n",
            "234/234 [==============================] - 2s 6ms/step - loss: 0.1749 - accuracy: 0.9457\n",
            "Epoch 3/10\n",
            "234/234 [==============================] - 1s 6ms/step - loss: 0.1550 - accuracy: 0.9516\n",
            "Epoch 4/10\n",
            "234/234 [==============================] - 2s 6ms/step - loss: 0.1508 - accuracy: 0.9510\n",
            "Epoch 5/10\n",
            "234/234 [==============================] - 1s 6ms/step - loss: 0.1388 - accuracy: 0.9551\n",
            "Epoch 6/10\n",
            "234/234 [==============================] - 1s 6ms/step - loss: 0.1349 - accuracy: 0.9567\n",
            "Epoch 7/10\n",
            "234/234 [==============================] - 2s 8ms/step - loss: 0.1313 - accuracy: 0.9575\n",
            "Epoch 8/10\n",
            "234/234 [==============================] - 2s 7ms/step - loss: 0.1282 - accuracy: 0.9580\n",
            "Epoch 9/10\n",
            "234/234 [==============================] - 1s 6ms/step - loss: 0.1266 - accuracy: 0.9583\n",
            "Epoch 10/10\n",
            "234/234 [==============================] - 1s 6ms/step - loss: 0.1241 - accuracy: 0.9594\n",
            "39/39 [==============================] - 0s 5ms/step - loss: 0.0885 - accuracy: 0.9716\n",
            "Test accuracy: 0.9715544581413269\n"
          ]
        }
      ]
    }
  ],
  "metadata": {
    "accelerator": "GPU",
    "colab": {
      "provenance": []
    },
    "gpuClass": "standard",
    "kernelspec": {
      "display_name": "Python 3",
      "name": "python3"
    },
    "language_info": {
      "name": "python"
    }
  },
  "nbformat": 4,
  "nbformat_minor": 0
}